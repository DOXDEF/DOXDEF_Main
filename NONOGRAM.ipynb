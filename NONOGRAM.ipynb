{
  "nbformat": 4,
  "nbformat_minor": 0,
  "metadata": {
    "colab": {
      "name": "Untitled0.ipynb",
      "provenance": [],
      "collapsed_sections": [],
      "authorship_tag": "ABX9TyO1d+671x3JECJXurcx1+Pq",
      "include_colab_link": true
    },
    "kernelspec": {
      "name": "python3",
      "display_name": "Python 3"
    },
    "language_info": {
      "name": "python"
    }
  },
  "cells": [
    {
      "cell_type": "markdown",
      "metadata": {
        "id": "view-in-github",
        "colab_type": "text"
      },
      "source": [
        "<a href=\"https://colab.research.google.com/github/DOXDEF/DOXDEF_Main/blob/main/NONOGRAM.ipynb\" target=\"_parent\"><img src=\"https://colab.research.google.com/assets/colab-badge.svg\" alt=\"Open In Colab\"/></a>"
      ]
    },
    {
      "cell_type": "code",
      "execution_count": null,
      "metadata": {
        "colab": {
          "base_uri": "https://localhost:8080/",
          "height": 480
        },
        "id": "HOQ-ulnm2e29",
        "outputId": "2b5b6dd6-7816-4d07-9b01-db193c804b6c"
      },
      "outputs": [
        {
          "output_type": "stream",
          "name": "stdout",
          "text": [
            "--2021-12-21 10:14:55--  https://img1.daumcdn.net/thumb/R1280x0/?scode=mtistory2&fname=https%3A%2F%2Fblog.kakaocdn.net%2Fdn%2FATOKW%2Fbtrorl81wQK%2FUH74EY52a8G75CmMr8bOYk%2Fimg.png\n",
            "Resolving img1.daumcdn.net (img1.daumcdn.net)... 23.202.34.144, 23.202.34.136, 2600:1417:e800::b81a:7f08, ...\n",
            "Connecting to img1.daumcdn.net (img1.daumcdn.net)|23.202.34.144|:443... connected.\n",
            "HTTP request sent, awaiting response... 200 OK\n",
            "\n",
            "    The file is already fully retrieved; nothing to do.\n",
            "\n"
          ]
        },
        {
          "output_type": "display_data",
          "data": {
            "image/png": "[encoded data removed]",
            "text/plain": [
              "<PIL.Image.Image image mode=RGB size=333x314 at 0x7F6F97563A10>"
            ]
          },
          "metadata": {}
        }
      ],
      "source": [
        "import numpy as np\n",
        "import cv2, torch\n",
        "from google.colab.patches import cv2_imshow\n",
        "\n",
        "!wget -c 'https://img1.daumcdn.net/thumb/R1280x0/?scode=mtistory2&fname=https%3A%2F%2Fblog.kakaocdn.net%2Fdn%2FATOKW%2Fbtrorl81wQK%2FUH74EY52a8G75CmMr8bOYk%2Fimg.png' -O 'nonogram.jpg'\n",
        "\n",
        "nonogram = cv2.imread('nonogram.jpg')\n",
        "cv2_imshow(nonogram)"
      ]
    },
    {
      "cell_type": "code",
      "source": [
        "img_color = cv2.imread('nonogram.jpg') \n",
        "height, width = img_color.shape[:2]\n",
        "img_hsv = cv2.cvtColor(img_color, cv2.COLOR_BGR2HSV) \n",
        "lower_red = (0, 255, 255) \n",
        "upper_red = (0, 255, 255) \n",
        "img_mask = cv2.inRange(img_hsv, lower_red, upper_red) \n",
        "img_result = cv2.bitwise_and(img_color, img_color, mask = img_mask)\n",
        "\n",
        "cnt, labels, stats, centroids = cv2.connectedComponentsWithStats(img_mask)\n",
        "\n",
        "dst = cv2.cvtColor(img_mask, cv2.COLOR_GRAY2BGR)\n",
        "\n",
        "for i in range(1, cnt):\n",
        "    (x, y, w, h, area) = stats[i]\n",
        "\n",
        "    cv2.putText(dst, str(i), (x + w // 2 - 5, y + h // 2 + 5), cv2.FONT_HERSHEY_PLAIN, 1, (0, 0, 255), 1, cv2.LINE_AA)\n",
        "    cv2.rectangle(dst, (x, y, w, h), (0, 0, 255))\n",
        "\n",
        "cv2_imshow(img_color) \n",
        "cv2_imshow(img_mask) \n",
        "cv2_imshow(img_result) \n",
        "cv2_imshow(dst)\n",
        "cv2.waitKey(0) \n",
        "cv2.destroyAllWindows()"
      ],
      "metadata": {
        "colab": {
          "base_uri": "https://localhost:8080/",
          "height": 1000
        },
        "id": "wNVm_jEt48oi",
        "outputId": "2d3229b6-bfd8-41cc-c334-73b0ed5784be"
      },
      "execution_count": null,
      "outputs": [
        {
          "output_type": "display_data",
          "data": {
            "image/png": "[encoded data removed]",
            "text/plain": [
              "<PIL.Image.Image image mode=RGB size=333x314 at 0x7F6F9766F290>"
            ]
          },
          "metadata": {}
        },
        {
          "output_type": "display_data",
          "data": {
            "image/png": "[encoded data removed]",
            "text/plain": [
              "<PIL.Image.Image image mode=L size=333x314 at 0x7F6F9766FE90>"
            ]
          },
          "metadata": {}
        },
        {
          "output_type": "display_data",
          "data": {
            "image/png": "[encoded data removed]",
            "text/plain": [
              "<PIL.Image.Image image mode=RGB size=333x314 at 0x7F6F9766F150>"
            ]
          },
          "metadata": {}
        },
        {
          "output_type": "display_data",
          "data": {
            "image/png": "[encoded data removed]",
            "text/plain": [
              "<PIL.Image.Image image mode=RGB size=333x314 at 0x7F6F9766FF90>"
            ]
          },
          "metadata": {}
        }
      ]
    },
    {
      "cell_type": "code",
      "source": [
        "num = 1\n",
        "print(\"row\")\n",
        "count = 1\n",
        "row = 1\n",
        "for i in range(1, (cnt - 1)):\n",
        "  if (stats[i][1] != row):\n",
        "    print(0)\n",
        "    row += 31\n",
        "  if(stats[i][1] == stats[i+1][1]):\n",
        "      if (stats[i][0] + 33 == stats[i+1][0]):\n",
        "        count+=1\n",
        "      else:\n",
        "        print(count, end = ' ')\n",
        "        count = 1\n",
        "  else:\n",
        "   print(count)\n",
        "   count = 1\n",
        "   num+=1\n",
        "   if (stats[i][1] == row):\n",
        "    row += 31\n",
        "print(count)\n",
        "if (num < 10):\n",
        "  print(0)\n",
        "print(\"=========\")\n",
        "print(\"column\")\n",
        "num = 1\n",
        "count = 1\n",
        "column = 2\n",
        "stats = stats[stats[:, 1].argsort(kind='mergesort')]\n",
        "stats = stats[stats[:, 0].argsort(kind='mergesort')]  \n",
        "for i in range(1, (cnt - 1)):\n",
        "  if (stats[i][0] != column):\n",
        "    print(0)\n",
        "    num+=1\n",
        "    column += 33\n",
        "  if(stats[i][0] == stats[i+1][0]):\n",
        "      if (stats[i][1] + 31 == stats[i+1][1]):\n",
        "        count+=1\n",
        "      else:\n",
        "        print(count, end = ' ')\n",
        "        count = 1\n",
        "  else:\n",
        "   print(count)\n",
        "   count = 1\n",
        "   num+=1\n",
        "   if (stats[i][0] == column):\n",
        "    column += 33\n",
        "print(count)\n",
        "if (num < 10):\n",
        "  print(0)\n"
      ],
      "metadata": {
        "colab": {
          "base_uri": "https://localhost:8080/"
        },
        "id": "cUglGIAg-MSG",
        "outputId": "fc55129a-3c1a-4e5f-f0e1-66d81d515e08"
      },
      "execution_count": null,
      "outputs": [
        {
          "output_type": "stream",
          "name": "stdout",
          "text": [
            "row\n",
            "1 1 1\n",
            "2 2\n",
            "1 1\n",
            "6\n",
            "1 2\n",
            "2 1\n",
            "1 2 2\n",
            "1 2 1\n",
            "2 1 1\n",
            "3 2\n",
            "=========\n",
            "column\n",
            "0\n",
            "1 4\n",
            "6 2\n",
            "1 1\n",
            "1 2 1\n",
            "4 3\n",
            "1 2 1\n",
            "1 4 1\n",
            "3\n",
            "0\n"
          ]
        }
      ]
    }
  ]
}